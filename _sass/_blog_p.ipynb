{
 "cells": [
  {
   "cell_type": "code",
   "execution_count": null,
   "id": "d10a8296",
   "metadata": {},
   "outputs": [],
   "source": [
    ".blog-post-list {\n",
    "  .blog-post-date {\n",
    "    width: 6em;\n",
    "    color: #777;\n",
    "    display: block;\n",
    "    float: left;\n",
    "\n",
    "    @include media-query($on-mobile) {\n",
    "      display: block;\n",
    "      float: none;\n",
    "      color: #333;\n",
    "      font-size: 11px;\n",
    "      margin-top: 14px;\n",
    "    }\n",
    "  }\n",
    "\n",
    "  .blog-post-title {\n",
    "    font-size: 100%;\n",
    "    letter-spacing: normal;\n",
    "  }\n",
    "}\n"
   ]
  }
 ],
 "metadata": {
  "kernelspec": {
   "display_name": "Python 3 (ipykernel)",
   "language": "python",
   "name": "python3"
  },
  "language_info": {
   "codemirror_mode": {
    "name": "ipython",
    "version": 3
   },
   "file_extension": ".py",
   "mimetype": "text/x-python",
   "name": "python",
   "nbconvert_exporter": "python",
   "pygments_lexer": "ipython3",
   "version": "3.9.7"
  }
 },
 "nbformat": 4,
 "nbformat_minor": 5
}
