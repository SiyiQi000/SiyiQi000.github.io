{
 "cells": [
  {
   "cell_type": "code",
   "execution_count": null,
   "id": "25c89ebd",
   "metadata": {},
   "outputs": [],
   "source": [
    "---\n",
    "# Only the main Sass file needs front matter (the dashes are enough)\n",
    "---\n",
    "\n",
    "@charset \"utf-8\";\n",
    "\n",
    "// Our variables\n",
    "$base-url: \"{{ site.baseurl }}\";\n",
    "\n",
    "$base-font-family: Charter, Georgia, Helvetica, Arial, sans-serif;\n",
    "$base-font-size: 14px;\n",
    "$small-font-size: $base-font-size * 0.875;\n",
    "$base-line-height: 1.7;\n",
    "\n",
    "$spacing-unit: 30px;\n",
    "\n",
    "$text-color: #111;\n",
    "$background-color: #fdfdfd;\n",
    "$brand-color: #2a7ae2;\n",
    "\n",
    "$grey-color: #828282;\n",
    "$grey-color-light: lighten($grey-color, 40%);\n",
    "$grey-color-dark: darken($grey-color, 25%);\n",
    "\n",
    "$on-mobile: 500px;\n",
    "$on-laptop: 800px;\n",
    "\n",
    "@mixin media-query($device) {\n",
    "  @media screen and (max-width: $device) {\n",
    "    @content;\n",
    "  }\n",
    "}\n",
    "\n",
    "// Import partials from `sass_dir` (defaults to `_sass`)\n",
    "@import \"base\", \"layout\", \"site\", \"work\", \"blog\", \"post\", \"404\";\n"
   ]
  }
 ],
 "metadata": {
  "kernelspec": {
   "display_name": "Python 3 (ipykernel)",
   "language": "python",
   "name": "python3"
  },
  "language_info": {
   "codemirror_mode": {
    "name": "ipython",
    "version": 3
   },
   "file_extension": ".py",
   "mimetype": "text/x-python",
   "name": "python",
   "nbconvert_exporter": "python",
   "pygments_lexer": "ipython3",
   "version": "3.9.7"
  }
 },
 "nbformat": 4,
 "nbformat_minor": 5
}
