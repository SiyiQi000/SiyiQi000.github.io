{
 "cells": [
  {
   "cell_type": "code",
   "execution_count": null,
   "id": "3eaf2606",
   "metadata": {},
   "outputs": [],
   "source": [
    "---\n",
    "layout: project\n",
    "title: Project\n",
    "slug: /project\n",
    "items:\n",
    "  - title: Third Prize (Team Award)\n",
    "    image:\n",
    "      src: /assets/img/interests/interests-art.png\n",
    "      alt: interests-art\n",
    "    description: 2019<br />Xi‘an Xingfu Woodland Landscape and Lighting Design International Competition, Comprehensive Reconstruction Management Committee of Xingfu Road District, Xi’an\n",
    "  - title: Winning Prize (Team Award) \n",
    "    image:\n",
    "      src: /assets/img/interests/interests-design.png\n",
    "      alt: interests-design\n",
    "    description: 2014 to present<br />I enjoy ecological planning and planting design. And I would like to make my planning more rational.<br />\n",
    "---\n",
    "\n",
    "\n",
    "<br />\n",
    "<br />\n"
   ]
  }
 ],
 "metadata": {
  "kernelspec": {
   "display_name": "Python 3 (ipykernel)",
   "language": "python",
   "name": "python3"
  },
  "language_info": {
   "codemirror_mode": {
    "name": "ipython",
    "version": 3
   },
   "file_extension": ".py",
   "mimetype": "text/x-python",
   "name": "python",
   "nbconvert_exporter": "python",
   "pygments_lexer": "ipython3",
   "version": "3.9.7"
  }
 },
 "nbformat": 4,
 "nbformat_minor": 5
}
