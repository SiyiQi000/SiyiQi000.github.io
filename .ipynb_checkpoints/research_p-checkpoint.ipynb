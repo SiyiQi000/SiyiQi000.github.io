{
 "cells": [
  {
   "cell_type": "code",
   "execution_count": null,
   "id": "b1d32d68",
   "metadata": {},
   "outputs": [],
   "source": [
    "---\n",
    "layout: research\n",
    "title: Research\n",
    "slug: /research\n",
    "items:\n",
    "  - title: Crafts in Traditional Chinese Garden\n",
    "    image:\n",
    "      src: /assets/img/research/research-craftsmen.png\n",
    "      alt: research-craftsmen\n",
    "    description: Member of the Editorial Board, 2016.<br /><i>Oral record of traditional architectural decoration craftsmen in Lingnan</i>, National Natural Science Foundation of China (NSFC): 51908227, published. I participated in the materials gathering, organizing, writing, and composing, which included field research and interviews for about one month.<br />\n",
    "  - title: Low-cost, Low-maintenance Mixed Flower Border\n",
    "    image:\n",
    "      src: /assets/img/research/research-flowerborder.png\n",
    "      alt: research-flowerborder\n",
    "    description: Participant, 01.2019.<br />Drew renderings for research report named <i>Screening and Application of Low-cost, Low-maintenance Mixed Flower Border</i>.This research report has been accepted by the expert panel organized by the Shenzhen Institute of Urban Management Science.<br />\n",
    "\n",
    "---\n",
    "\n",
    "\n",
    "<br />\n",
    "<br />\n"
   ]
  }
 ],
 "metadata": {
  "kernelspec": {
   "display_name": "Python 3 (ipykernel)",
   "language": "python",
   "name": "python3"
  },
  "language_info": {
   "codemirror_mode": {
    "name": "ipython",
    "version": 3
   },
   "file_extension": ".py",
   "mimetype": "text/x-python",
   "name": "python",
   "nbconvert_exporter": "python",
   "pygments_lexer": "ipython3",
   "version": "3.9.7"
  }
 },
 "nbformat": 4,
 "nbformat_minor": 5
}
