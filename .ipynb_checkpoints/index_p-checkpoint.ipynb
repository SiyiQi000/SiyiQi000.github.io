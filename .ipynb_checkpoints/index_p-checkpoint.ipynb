{
 "cells": [
  {
   "cell_type": "markdown",
   "id": "dc635747",
   "metadata": {},
   "source": [
    "---\n",
    "layout: home\n",
    "profile_picture:\n",
    "  src: /assets/img/profile-pic.jpg\n",
    "  alt: website picture\n",
    "---\n",
    "\n",
    "<p>\n",
    "  Hi! This site serves as an example for the Bay Jekyll theme. Bay is a very simple and minimal theme, directly inspired by Dan Grover's <a href=\"http://dangrover.com\">website</a>.\n",
    "</p>\n",
    "\n",
    "<p>\n",
    "  You can find the source code and the instructions on <a href=\"https://github.com/eliottvincent/bay\">GitHub</a>.\n",
    "</p>\n"
   ]
  }
 ],
 "metadata": {
  "kernelspec": {
   "display_name": "Python 3 (ipykernel)",
   "language": "python",
   "name": "python3"
  },
  "language_info": {
   "codemirror_mode": {
    "name": "ipython",
    "version": 3
   },
   "file_extension": ".py",
   "mimetype": "text/x-python",
   "name": "python",
   "nbconvert_exporter": "python",
   "pygments_lexer": "ipython3",
   "version": "3.9.7"
  }
 },
 "nbformat": 4,
 "nbformat_minor": 5
}
