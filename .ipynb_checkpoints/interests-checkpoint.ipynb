{
 "cells": [
  {
   "cell_type": "code",
   "execution_count": null,
   "id": "ca280d37",
   "metadata": {},
   "outputs": [],
   "source": [
    "---\n",
    "layout: interests\n",
    "title: Interests\n",
    "slug: /interests\n",
    "items:\n",
    "  - title: Art\n",
    "    image:\n",
    "      src: /assets/img/interests/interests-art.png\n",
    "      alt: interests-art\n",
    "    description: I love art! One of my hobbies is appreciating traditional artworks and collecting beautiful pictures no matter paintings or photos. I do some painting too, and I dabble in making animation recently. I always put my works on [Bilibili](https://space.bilibili.com/659367/video)\n",
    "  - title: Planting Design & Planning\n",
    "    image:\n",
    "      src: /assets/img/interests/interests-design.png\n",
    "      alt: interests-design\n",
    "    description: I enjoy planting design and planning. And I would like to make my design and planning more scientific.\n",
    "---\n",
    "\n",
    "\n",
    "<br />\n",
    "<br />\n"
   ]
  }
 ],
 "metadata": {
  "kernelspec": {
   "display_name": "Python 3 (ipykernel)",
   "language": "python",
   "name": "python3"
  },
  "language_info": {
   "codemirror_mode": {
    "name": "ipython",
    "version": 3
   },
   "file_extension": ".py",
   "mimetype": "text/x-python",
   "name": "python",
   "nbconvert_exporter": "python",
   "pygments_lexer": "ipython3",
   "version": "3.9.7"
  }
 },
 "nbformat": 4,
 "nbformat_minor": 5
}
