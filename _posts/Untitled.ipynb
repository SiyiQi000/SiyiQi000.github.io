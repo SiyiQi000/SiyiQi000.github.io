{
 "cells": [
  {
   "cell_type": "markdown",
   "id": "db80da22",
   "metadata": {},
   "source": [
    "---\n",
    "layout: post\n",
    "title:  \"In the beginning\"\n",
    "date:   2022-02-05 07:00:40\n",
    "blurb: \"A look at an example post using Bay Jekyll theme.\"\n",
    "og_image: /assets/img/content/post-example/Banner.jpg\n",
    "---\n",
    "\n",
    "<img src=\"{{ \"/assets/img/content/post-example/Banner.jpg\" | absolute_url }}\" alt=\"bay\" class=\"post-pic\"/>\n",
    "<br />\n",
    "<br />\n",
    "\n",
    "Here I will tell you my story."
   ]
  }
 ],
 "metadata": {
  "kernelspec": {
   "display_name": "Python 3 (ipykernel)",
   "language": "python",
   "name": "python3"
  },
  "language_info": {
   "codemirror_mode": {
    "name": "ipython",
    "version": 3
   },
   "file_extension": ".py",
   "mimetype": "text/x-python",
   "name": "python",
   "nbconvert_exporter": "python",
   "pygments_lexer": "ipython3",
   "version": "3.9.7"
  }
 },
 "nbformat": 4,
 "nbformat_minor": 5
}
